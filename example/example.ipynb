{
 "cells": [
  {
   "cell_type": "code",
   "execution_count": 1,
   "metadata": {},
   "outputs": [
    {
     "ename": "ModuleNotFoundError",
     "evalue": "No module named 'simulpy'",
     "output_type": "error",
     "traceback": [
      "\u001b[0;31m---------------------------------------------------------------------------\u001b[0m",
      "\u001b[0;31mModuleNotFoundError\u001b[0m                       Traceback (most recent call last)",
      "\u001b[0;32m<ipython-input-1-9a55a966e6f9>\u001b[0m in \u001b[0;36m<module>\u001b[0;34m\u001b[0m\n\u001b[0;32m----> 1\u001b[0;31m \u001b[0;32mfrom\u001b[0m \u001b[0msimulpy\u001b[0m\u001b[0;34m.\u001b[0m\u001b[0mrobobj\u001b[0m \u001b[0;32mimport\u001b[0m \u001b[0mrobot\u001b[0m\u001b[0;34m\u001b[0m\u001b[0;34m\u001b[0m\u001b[0m\n\u001b[0m\u001b[1;32m      2\u001b[0m \u001b[0;32mfrom\u001b[0m \u001b[0msimulpy\u001b[0m \u001b[0;32mimport\u001b[0m \u001b[0mgraphics\u001b[0m\u001b[0;34m\u001b[0m\u001b[0;34m\u001b[0m\u001b[0m\n\u001b[1;32m      3\u001b[0m \u001b[0;32mfrom\u001b[0m \u001b[0msimulpy\u001b[0m \u001b[0;32mimport\u001b[0m \u001b[0mkin\u001b[0m\u001b[0;34m\u001b[0m\u001b[0;34m\u001b[0m\u001b[0m\n\u001b[1;32m      4\u001b[0m \u001b[0;32mfrom\u001b[0m \u001b[0msimulpy\u001b[0m \u001b[0;32mimport\u001b[0m \u001b[0mtrajectory\u001b[0m\u001b[0;34m\u001b[0m\u001b[0;34m\u001b[0m\u001b[0m\n\u001b[1;32m      5\u001b[0m \u001b[0;32mfrom\u001b[0m \u001b[0msimulpy\u001b[0m \u001b[0;32mimport\u001b[0m \u001b[0msolidobj\u001b[0m\u001b[0;34m\u001b[0m\u001b[0;34m\u001b[0m\u001b[0m\n",
      "\u001b[0;31mModuleNotFoundError\u001b[0m: No module named 'simulpy'"
     ]
    }
   ],
   "source": [
    "from simulpy.robobj import robot\n",
    "from simulpy import graphics\n",
    "from simulpy import kin\n",
    "from simulpy import trajectory\n",
    "from simulpy import solidobj\n",
    "import math\n",
    "import numpy as np\n",
    "\n",
    "pi = math.pi"
   ]
  },
  {
   "cell_type": "code",
   "execution_count": null,
   "metadata": {},
   "outputs": [],
   "source": [
    "jointno = 3\n",
    "jointaxismat = [[0,0,1],[0,1,0],[0,1,0]]\n",
    "lenmat = [[0,0,1],[0,0,2],[0,0,3]]\n",
    "\n",
    "robot1 = robot.Robot(jointno,jointaxismat,lenmat)\n",
    "m = graphics.plotcurrpos(robot1)\n",
    "m.show()"
   ]
  },
  {
   "cell_type": "code",
   "execution_count": null,
   "metadata": {},
   "outputs": [],
   "source": [
    "theta = [0,pi/3,pi/2]\n",
    "kin.fwd(robot1,theta)\n",
    "m = graphics.plotcurrpos(robot1)\n",
    "m.show()"
   ]
  },
  {
   "cell_type": "code",
   "execution_count": null,
   "metadata": {},
   "outputs": [],
   "source": [
    "thetafinal = [2*pi/3,pi/2,-pi/6]\n",
    "thetainit = [0,0,pi/3]\n",
    "\n",
    "trajectorymat = trajectory.calctrac(robot1,thetainit,thetafinal,10) \n",
    "m = graphics.tracplot(robot1, trajectorymat,1)\n",
    "m.show()\n",
    "print(robot1.coordmat)"
   ]
  },
  {
   "cell_type": "code",
   "execution_count": null,
   "metadata": {
    "scrolled": false
   },
   "outputs": [],
   "source": [
    "m = graphics.plotvol(robot1,trajectorymat)\n",
    "m.show()"
   ]
  },
  {
   "cell_type": "code",
   "execution_count": null,
   "metadata": {
    "scrolled": false
   },
   "outputs": [],
   "source": [
    "coord = [2.29, 3.98, 2]\n",
    "thetalist = kin.inv(robot1, coord)\n",
    "\n",
    "kin.fwd(robot1,thetalist)\n",
    "m = graphics.plotcurrpos(robot1)\n",
    "m.show()"
   ]
  },
  {
   "cell_type": "code",
   "execution_count": null,
   "metadata": {},
   "outputs": [],
   "source": [
    "pt1 = [2, 2, 1]\n",
    "pt2 = [2.29, 3.98, 2]\n",
    "    \n",
    "trajectorymat = trajectory.linetrac(robot1, pt1, pt2)\n",
    "\n",
    "m = graphics.tracplot(robot1, trajectorymat,1)\n",
    "m.show()"
   ]
  },
  {
   "cell_type": "code",
   "execution_count": null,
   "metadata": {},
   "outputs": [],
   "source": [
    "m = graphics.plotvol(robot1,trajectorymat)\n",
    "m.show()"
   ]
  },
  {
   "cell_type": "code",
   "execution_count": null,
   "metadata": {},
   "outputs": [],
   "source": []
  }
 ],
 "metadata": {
  "kernelspec": {
   "display_name": "Python 3",
   "language": "python",
   "name": "python3"
  },
  "language_info": {
   "codemirror_mode": {
    "name": "ipython",
    "version": 3
   },
   "file_extension": ".py",
   "mimetype": "text/x-python",
   "name": "python",
   "nbconvert_exporter": "python",
   "pygments_lexer": "ipython3",
   "version": "3.7.3"
  },
  "widgets": {
   "application/vnd.jupyter.widget-state+json": {
    "state": {},
    "version_major": 2,
    "version_minor": 0
   }
  }
 },
 "nbformat": 4,
 "nbformat_minor": 2
}
